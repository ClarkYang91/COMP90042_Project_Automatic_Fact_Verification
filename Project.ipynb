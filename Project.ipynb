{
 "cells": [
  {
   "cell_type": "markdown",
   "metadata": {},
   "source": [
    "## COMP90042 Web Search and Text Analysis"
   ]
  },
  {
   "cell_type": "markdown",
   "metadata": {},
   "source": [
    "### Topic: Automatic Fact Verification"
   ]
  },
  {
   "cell_type": "code",
   "execution_count": 62,
   "metadata": {},
   "outputs": [],
   "source": [
    "# import nltk\n",
    "import json\n",
    "from zipfile import ZipFile\n",
    "\n"
   ]
  },
  {
   "cell_type": "code",
   "execution_count": 63,
   "metadata": {},
   "outputs": [
    {
     "name": "stdout",
     "output_type": "stream",
     "text": [
      "<class 'dict'>\n",
      "214863 {'evidence': [['Aesthetics', 0], ['History_of_art', 2], ['History_of_art', 0]], 'claim': 'History of art includes aesthetics.', 'label': 'SUPPORTS'}\n",
      "214863 {\n",
      "  \"claim\": \"History of art includes aesthetics.\",\n",
      "  \"evidence\": [\n",
      "    [\n",
      "      \"Aesthetics\",\n",
      "      0\n",
      "    ],\n",
      "    [\n",
      "      \"History_of_art\",\n",
      "      2\n",
      "    ],\n",
      "    [\n",
      "      \"History_of_art\",\n",
      "      0\n",
      "    ]\n",
      "  ],\n",
      "  \"label\": \"SUPPORTS\"\n",
      "}\n"
     ]
    }
   ],
   "source": [
    "# read file\n",
    "with open('train.json', 'r') as trainFile:\n",
    "    data = trainFile.read()\n",
    "    \n",
    "# parse file\n",
    "obj = json.loads(data)\n",
    "print(type(obj))\n",
    "for key, value in obj.items():\n",
    "    print(key, value)\n",
    "    print(key, json.dumps(value, sort_keys = True, indent = 2 ))\n",
    "    break\n"
   ]
  },
  {
   "cell_type": "code",
   "execution_count": 125,
   "metadata": {},
   "outputs": [
    {
     "name": "stdout",
     "output_type": "stream",
     "text": [
      "b'Alexander_McNair 0 Alexander McNair -LRB- May 5 , 1775 -- March 18 , 1826 -RRB- was an American frontiersman and politician .\\n'\n",
      "b'Charles_Masson 0 Charles Masson -LRB- 1800 -- 1853 -RRB- was the pseudonym of James Lewis , a British East India Company soldier and explorer .\\n'\n",
      "['Alexander_McNair 0 Alexander McNair ( May 5 , 1775 -- March 18 , 1826 ) was an American frontiersman and politician .', 'Charles_Masson 0 Charles Masson ( 1800 -- 1853 ) was the pseudonym of James Lewis , a British East India Company soldier and explorer .']\n",
      "['Alexander_McNair', '0', 'Alexander', 'McNair', '(', 'May', '5', ',', '1775', '--', 'March', '18', ',', '1826', ')', 'was', 'an', 'American', 'frontiersman', 'and', 'politician', '.']\n"
     ]
    }
   ],
   "source": [
    "def Convert_Round_Brackets(original):\n",
    "    original = original.replace('-LRB-', '(')\n",
    "    original = original.replace('-RRB-', ')')\n",
    "    return original\n",
    "        \n",
    "        \n",
    "    \n",
    "\n",
    "\n",
    "archiveFile = ZipFile('wiki-pages-text.zip', 'r')\n",
    "files = archiveFile.namelist()\n",
    "# print(files)\n",
    "\n",
    "doc = []\n",
    "\n",
    "for file in files[1:3]:\n",
    "    temp_line = str(archiveFile.open(file,'r').readline())\n",
    "    print(temp_line)\n",
    "#     print(type(temp_line))\n",
    "    doc.append(Convert_Round_Brackets(temp_line[2:-3]))\n",
    "    \n",
    "print(doc)\n",
    "print(doc[0].split())\n",
    "# print('document length: ',len(doc))\n",
    "# for content in doc[:10]:\n",
    "#     print(content)\n"
   ]
  }
 ],
 "metadata": {
  "kernelspec": {
   "display_name": "Python 3",
   "language": "python",
   "name": "python3"
  },
  "language_info": {
   "codemirror_mode": {
    "name": "ipython",
    "version": 3
   },
   "file_extension": ".py",
   "mimetype": "text/x-python",
   "name": "python",
   "nbconvert_exporter": "python",
   "pygments_lexer": "ipython3",
   "version": "3.5.6"
  }
 },
 "nbformat": 4,
 "nbformat_minor": 2
}
