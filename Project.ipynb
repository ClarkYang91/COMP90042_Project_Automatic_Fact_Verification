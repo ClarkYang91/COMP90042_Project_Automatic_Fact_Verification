{
 "cells": [
  {
   "cell_type": "markdown",
   "metadata": {},
   "source": [
    "## COMP90042 Web Search and Text Analysis"
   ]
  },
  {
   "cell_type": "markdown",
   "metadata": {},
   "source": [
    "### Topic: Automatic Fact Verification"
   ]
  },
  {
   "cell_type": "code",
   "execution_count": 16,
   "metadata": {},
   "outputs": [],
   "source": [
    "# import nltk\n",
    "import json\n",
    "from zipfile import ZipFile\n",
    "\n"
   ]
  },
  {
   "cell_type": "code",
   "execution_count": 42,
   "metadata": {},
   "outputs": [
    {
     "name": "stdout",
     "output_type": "stream",
     "text": [
      "<class 'dict'>\n",
      "193249 {'evidence': [['Spain', 0], ['United_Kingdom', 0], ['Germany', 0], ['Edge_of_Tomorrow', 20], ['Edge_of_Tomorrow', 0], ['Edge_of_Tomorrow', 3]], 'label': 'SUPPORTS', 'claim': 'Edge of Tomorrow was released in Europe.'}\n",
      "193249 {\n",
      "  \"claim\": \"Edge of Tomorrow was released in Europe.\",\n",
      "  \"evidence\": [\n",
      "    [\n",
      "      \"Spain\",\n",
      "      0\n",
      "    ],\n",
      "    [\n",
      "      \"United_Kingdom\",\n",
      "      0\n",
      "    ],\n",
      "    [\n",
      "      \"Germany\",\n",
      "      0\n",
      "    ],\n",
      "    [\n",
      "      \"Edge_of_Tomorrow\",\n",
      "      20\n",
      "    ],\n",
      "    [\n",
      "      \"Edge_of_Tomorrow\",\n",
      "      0\n",
      "    ],\n",
      "    [\n",
      "      \"Edge_of_Tomorrow\",\n",
      "      3\n",
      "    ]\n",
      "  ],\n",
      "  \"label\": \"SUPPORTS\"\n",
      "}\n"
     ]
    }
   ],
   "source": [
    "# read file\n",
    "with open('train.json', 'r') as trainFile:\n",
    "    data = trainFile.read()\n",
    "    \n",
    "# parse file\n",
    "obj = json.loads(data)\n",
    "print(type(obj))\n",
    "for key, value in obj.items():\n",
    "    print(key, value)\n",
    "    print(key, json.dumps(value, sort_keys = True, indent = 2 ))\n",
    "    break\n"
   ]
  },
  {
   "cell_type": "code",
   "execution_count": null,
   "metadata": {},
   "outputs": [],
   "source": [
    "archiveFile = ZipFile('wiki-pages-text.zip', 'r')\n",
    "files = archiveFile.namelist()\n",
    "# print(files)\n",
    "\n",
    "for doc in files[1:3]:\n",
    "    print(archiveFile.open(doc,'r').readline())\n",
    "    break"
   ]
  }
 ],
 "metadata": {
  "kernelspec": {
   "display_name": "Python 3",
   "language": "python",
   "name": "python3"
  },
  "language_info": {
   "codemirror_mode": {
    "name": "ipython",
    "version": 3
   },
   "file_extension": ".py",
   "mimetype": "text/x-python",
   "name": "python",
   "nbconvert_exporter": "python",
   "pygments_lexer": "ipython3",
   "version": "3.5.6"
  }
 },
 "nbformat": 4,
 "nbformat_minor": 2
}
